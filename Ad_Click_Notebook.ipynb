{
 "cells": [
  {
   "cell_type": "code",
   "execution_count": 2,
   "metadata": {},
   "outputs": [],
   "source": [
    "import pandas as pd\n",
    "import numpy as np\n",
    "from catboost import CatBoostClassifier,CatBoostRegressor\n",
    "from sklearn.model_selection import train_test_split"
   ]
  },
  {
   "cell_type": "code",
   "execution_count": null,
   "metadata": {
    "collapsed": true
   },
   "outputs": [],
   "source": [
    "train = pd.read_csv(\"train.csv\")\n",
    "\n"
   ]
  },
  {
   "cell_type": "code",
   "execution_count": 33,
   "metadata": {
    "collapsed": true
   },
   "outputs": [],
   "source": [
    "test = pd.read_csv(\"test.csv\")\n",
    "test1 = pd.read_csv(\"test.csv\",usecols=['ID'])"
   ]
  },
  {
   "cell_type": "code",
   "execution_count": null,
   "metadata": {
    "collapsed": true
   },
   "outputs": [],
   "source": [
    "\n",
    "\n"
   ]
  },
  {
   "cell_type": "code",
   "execution_count": 39,
   "metadata": {
    "collapsed": true
   },
   "outputs": [],
   "source": [
    "#train.isnull().sum(axis=0)/train.shape[0]\n",
    "test = []"
   ]
  },
  {
   "cell_type": "code",
   "execution_count": 38,
   "metadata": {},
   "outputs": [
    {
     "name": "stderr",
     "output_type": "stream",
     "text": [
      "C:\\Users\\hp pc\\Anaconda3b\\lib\\site-packages\\pandas\\core\\generic.py:3549: SettingWithCopyWarning: \n",
      "A value is trying to be set on a copy of a slice from a DataFrame\n",
      "\n",
      "See the caveats in the documentation: http://pandas.pydata.org/pandas-docs/stable/indexing.html#indexing-view-versus-copy\n",
      "  self._update_inplace(new_data)\n"
     ]
    }
   ],
   "source": [
    "train['siteid'].fillna(-999, inplace=True)\n",
    "#test['siteid'].fillna(-999, inplace=True)\n",
    "\n",
    "train['browserid'].fillna(\"None\", inplace=True)\n",
    "#test['browserid'].fillna(\"None\", inplace=True)\n",
    "\n",
    "train['devid'].fillna(\"None\", inplace=True)\n",
    "#test['devid'].fillna(\"None\", inplace=True)"
   ]
  },
  {
   "cell_type": "code",
   "execution_count": 40,
   "metadata": {
    "collapsed": true
   },
   "outputs": [],
   "source": [
    "train['datetime'] = pd.to_datetime(train['datetime'])\n",
    "#test['datetime'] = pd.to_datetime(test['datetime'])"
   ]
  },
  {
   "cell_type": "code",
   "execution_count": 41,
   "metadata": {},
   "outputs": [
    {
     "data": {
      "text/html": [
       "<div>\n",
       "<style>\n",
       "    .dataframe thead tr:only-child th {\n",
       "        text-align: right;\n",
       "    }\n",
       "\n",
       "    .dataframe thead th {\n",
       "        text-align: left;\n",
       "    }\n",
       "\n",
       "    .dataframe tbody tr th {\n",
       "        vertical-align: top;\n",
       "    }\n",
       "</style>\n",
       "<table border=\"1\" class=\"dataframe\">\n",
       "  <thead>\n",
       "    <tr style=\"text-align: right;\">\n",
       "      <th></th>\n",
       "      <th>ID</th>\n",
       "      <th>datetime</th>\n",
       "      <th>siteid</th>\n",
       "      <th>offerid</th>\n",
       "      <th>category</th>\n",
       "      <th>merchant</th>\n",
       "      <th>countrycode</th>\n",
       "      <th>browserid</th>\n",
       "      <th>devid</th>\n",
       "      <th>tweekday</th>\n",
       "      <th>thour</th>\n",
       "      <th>tminute</th>\n",
       "    </tr>\n",
       "  </thead>\n",
       "  <tbody>\n",
       "    <tr>\n",
       "      <th>2000000</th>\n",
       "      <td>IDr0EBu</td>\n",
       "      <td>2017-01-23 18:36:07</td>\n",
       "      <td>8600547.0</td>\n",
       "      <td>459561</td>\n",
       "      <td>48430</td>\n",
       "      <td>39772159</td>\n",
       "      <td>d</td>\n",
       "      <td>InternetExplorer</td>\n",
       "      <td>Desktop</td>\n",
       "      <td>0</td>\n",
       "      <td>18</td>\n",
       "      <td>36</td>\n",
       "    </tr>\n",
       "    <tr>\n",
       "      <th>2000001</th>\n",
       "      <td>IDmhaBV</td>\n",
       "      <td>2017-01-22 13:39:35</td>\n",
       "      <td>2473364.0</td>\n",
       "      <td>708906</td>\n",
       "      <td>73248</td>\n",
       "      <td>17488931</td>\n",
       "      <td>e</td>\n",
       "      <td>Edge</td>\n",
       "      <td>Tablet</td>\n",
       "      <td>6</td>\n",
       "      <td>13</td>\n",
       "      <td>39</td>\n",
       "    </tr>\n",
       "    <tr>\n",
       "      <th>2000002</th>\n",
       "      <td>ID7F1IP</td>\n",
       "      <td>2017-01-21 16:45:44</td>\n",
       "      <td>824014.0</td>\n",
       "      <td>375031</td>\n",
       "      <td>42227</td>\n",
       "      <td>49384126</td>\n",
       "      <td>c</td>\n",
       "      <td>Mozilla</td>\n",
       "      <td>None</td>\n",
       "      <td>5</td>\n",
       "      <td>16</td>\n",
       "      <td>45</td>\n",
       "    </tr>\n",
       "    <tr>\n",
       "      <th>2000003</th>\n",
       "      <td>IDexkFa</td>\n",
       "      <td>2017-01-22 16:44:57</td>\n",
       "      <td>-999.0</td>\n",
       "      <td>892449</td>\n",
       "      <td>93286</td>\n",
       "      <td>27723861</td>\n",
       "      <td>c</td>\n",
       "      <td>Mozilla Firefox</td>\n",
       "      <td>Desktop</td>\n",
       "      <td>6</td>\n",
       "      <td>16</td>\n",
       "      <td>44</td>\n",
       "    </tr>\n",
       "    <tr>\n",
       "      <th>2000004</th>\n",
       "      <td>ID6Qgwh</td>\n",
       "      <td>2017-01-22 15:59:49</td>\n",
       "      <td>-999.0</td>\n",
       "      <td>865605</td>\n",
       "      <td>42227</td>\n",
       "      <td>13742268</td>\n",
       "      <td>b</td>\n",
       "      <td>Mozilla Firefox</td>\n",
       "      <td>Desktop</td>\n",
       "      <td>6</td>\n",
       "      <td>15</td>\n",
       "      <td>59</td>\n",
       "    </tr>\n",
       "  </tbody>\n",
       "</table>\n",
       "</div>"
      ],
      "text/plain": [
       "              ID            datetime     siteid  offerid  category  merchant  \\\n",
       "2000000  IDr0EBu 2017-01-23 18:36:07  8600547.0   459561     48430  39772159   \n",
       "2000001  IDmhaBV 2017-01-22 13:39:35  2473364.0   708906     73248  17488931   \n",
       "2000002  ID7F1IP 2017-01-21 16:45:44   824014.0   375031     42227  49384126   \n",
       "2000003  IDexkFa 2017-01-22 16:44:57     -999.0   892449     93286  27723861   \n",
       "2000004  ID6Qgwh 2017-01-22 15:59:49     -999.0   865605     42227  13742268   \n",
       "\n",
       "        countrycode         browserid    devid  tweekday  thour  tminute  \n",
       "2000000           d  InternetExplorer  Desktop         0     18       36  \n",
       "2000001           e              Edge   Tablet         6     13       39  \n",
       "2000002           c           Mozilla     None         5     16       45  \n",
       "2000003           c   Mozilla Firefox  Desktop         6     16       44  \n",
       "2000004           b   Mozilla Firefox  Desktop         6     15       59  "
      ]
     },
     "execution_count": 41,
     "metadata": {},
     "output_type": "execute_result"
    }
   ],
   "source": [
    "# create datetime variable\n",
    "train['tweekday'] = train['datetime'].dt.weekday\n",
    "train['thour'] = train['datetime'].dt.hour\n",
    "train['tminute'] = train['datetime'].dt.minute\n",
    "\n",
    "#test['tweekday'] = test['datetime'].dt.weekday\n",
    "#test['thour'] = test['datetime'].dt.hour\n",
    "#test['tminute'] = test['datetime'].dt.minute\n",
    "train.head()"
   ]
  },
  {
   "cell_type": "code",
   "execution_count": null,
   "metadata": {
    "collapsed": true
   },
   "outputs": [],
   "source": [
    "train['click'].mean()\n",
    "a = train.groupby('devid')\n",
    "a['click'].agg([np.sum, np.mean, np.std])\n",
    "a = train.groupby('countrycode')\n",
    "a['click'].agg([np.sum, np.mean, np.std])\n"
   ]
  },
  {
   "cell_type": "code",
   "execution_count": 42,
   "metadata": {},
   "outputs": [
    {
     "data": {
      "text/html": [
       "<div>\n",
       "<style>\n",
       "    .dataframe thead tr:only-child th {\n",
       "        text-align: right;\n",
       "    }\n",
       "\n",
       "    .dataframe thead th {\n",
       "        text-align: left;\n",
       "    }\n",
       "\n",
       "    .dataframe tbody tr th {\n",
       "        vertical-align: top;\n",
       "    }\n",
       "</style>\n",
       "<table border=\"1\" class=\"dataframe\">\n",
       "  <thead>\n",
       "    <tr style=\"text-align: right;\">\n",
       "      <th></th>\n",
       "      <th>ID</th>\n",
       "      <th>datetime</th>\n",
       "      <th>siteid</th>\n",
       "      <th>offerid</th>\n",
       "      <th>category</th>\n",
       "      <th>merchant</th>\n",
       "      <th>countrycode</th>\n",
       "      <th>browserid</th>\n",
       "      <th>devid</th>\n",
       "      <th>tweekday</th>\n",
       "      <th>thour</th>\n",
       "      <th>tminute</th>\n",
       "    </tr>\n",
       "  </thead>\n",
       "  <tbody>\n",
       "    <tr>\n",
       "      <th>2000000</th>\n",
       "      <td>IDr0EBu</td>\n",
       "      <td>2017-01-23 18:36:07</td>\n",
       "      <td>8.60055e+06</td>\n",
       "      <td>459561</td>\n",
       "      <td>48430</td>\n",
       "      <td>39772159</td>\n",
       "      <td>d</td>\n",
       "      <td>InternetExplorer</td>\n",
       "      <td>Desktop</td>\n",
       "      <td>0</td>\n",
       "      <td>18</td>\n",
       "      <td>36</td>\n",
       "    </tr>\n",
       "    <tr>\n",
       "      <th>2000001</th>\n",
       "      <td>IDmhaBV</td>\n",
       "      <td>2017-01-22 13:39:35</td>\n",
       "      <td>2.47336e+06</td>\n",
       "      <td>708906</td>\n",
       "      <td>73248</td>\n",
       "      <td>17488931</td>\n",
       "      <td>e</td>\n",
       "      <td>Edge</td>\n",
       "      <td>Tablet</td>\n",
       "      <td>6</td>\n",
       "      <td>13</td>\n",
       "      <td>39</td>\n",
       "    </tr>\n",
       "    <tr>\n",
       "      <th>2000002</th>\n",
       "      <td>ID7F1IP</td>\n",
       "      <td>2017-01-21 16:45:44</td>\n",
       "      <td>824014</td>\n",
       "      <td>375031</td>\n",
       "      <td>42227</td>\n",
       "      <td>49384126</td>\n",
       "      <td>c</td>\n",
       "      <td>Mozilla</td>\n",
       "      <td>None</td>\n",
       "      <td>5</td>\n",
       "      <td>16</td>\n",
       "      <td>45</td>\n",
       "    </tr>\n",
       "    <tr>\n",
       "      <th>2000003</th>\n",
       "      <td>IDexkFa</td>\n",
       "      <td>2017-01-22 16:44:57</td>\n",
       "      <td>-999</td>\n",
       "      <td>892449</td>\n",
       "      <td>93286</td>\n",
       "      <td>27723861</td>\n",
       "      <td>c</td>\n",
       "      <td>Mozilla Firefox</td>\n",
       "      <td>Desktop</td>\n",
       "      <td>6</td>\n",
       "      <td>16</td>\n",
       "      <td>44</td>\n",
       "    </tr>\n",
       "    <tr>\n",
       "      <th>2000004</th>\n",
       "      <td>ID6Qgwh</td>\n",
       "      <td>2017-01-22 15:59:49</td>\n",
       "      <td>-999</td>\n",
       "      <td>865605</td>\n",
       "      <td>42227</td>\n",
       "      <td>13742268</td>\n",
       "      <td>b</td>\n",
       "      <td>Mozilla Firefox</td>\n",
       "      <td>Desktop</td>\n",
       "      <td>6</td>\n",
       "      <td>15</td>\n",
       "      <td>59</td>\n",
       "    </tr>\n",
       "  </tbody>\n",
       "</table>\n",
       "</div>"
      ],
      "text/plain": [
       "              ID            datetime       siteid offerid category  merchant  \\\n",
       "2000000  IDr0EBu 2017-01-23 18:36:07  8.60055e+06  459561    48430  39772159   \n",
       "2000001  IDmhaBV 2017-01-22 13:39:35  2.47336e+06  708906    73248  17488931   \n",
       "2000002  ID7F1IP 2017-01-21 16:45:44       824014  375031    42227  49384126   \n",
       "2000003  IDexkFa 2017-01-22 16:44:57         -999  892449    93286  27723861   \n",
       "2000004  ID6Qgwh 2017-01-22 15:59:49         -999  865605    42227  13742268   \n",
       "\n",
       "        countrycode         browserid    devid  tweekday  thour  tminute  \n",
       "2000000           d  InternetExplorer  Desktop         0     18       36  \n",
       "2000001           e              Edge   Tablet         6     13       39  \n",
       "2000002           c           Mozilla     None         5     16       45  \n",
       "2000003           c   Mozilla Firefox  Desktop         6     16       44  \n",
       "2000004           b   Mozilla Firefox  Desktop         6     15       59  "
      ]
     },
     "execution_count": 42,
     "metadata": {},
     "output_type": "execute_result"
    }
   ],
   "source": [
    "cols = ['siteid','offerid','category','merchant']\n",
    "\n",
    "for x in cols:\n",
    "    train[x] = train[x].astype('object')\n",
    "    #test[x] = test[x].astype('object')\n",
    "#hhh    \n",
    "#cols_to_use = list(set(train.columns) - set(['ID','datetime','click','tweekday','tminute']))\n",
    "\n",
    "# catboost accepts categorical variables as indexes\n",
    "cat_cols = [0,1,2,3,4,5,6,7]\n",
    "train.head()"
   ]
  },
  {
   "cell_type": "code",
   "execution_count": 36,
   "metadata": {
    "collapsed": true
   },
   "outputs": [],
   "source": [
    "\n",
    "# modeling on sampled (1e6) rows\n",
    "#rows = np.random.choice(train.index.values, 100000)\n",
    "#sampled_train = train.loc[rows]\n",
    "#train.index.values"
   ]
  },
  {
   "cell_type": "code",
   "execution_count": 10,
   "metadata": {},
   "outputs": [
    {
     "data": {
      "text/html": [
       "<div>\n",
       "<style>\n",
       "    .dataframe thead tr:only-child th {\n",
       "        text-align: right;\n",
       "    }\n",
       "\n",
       "    .dataframe thead th {\n",
       "        text-align: left;\n",
       "    }\n",
       "\n",
       "    .dataframe tbody tr th {\n",
       "        vertical-align: top;\n",
       "    }\n",
       "</style>\n",
       "<table border=\"1\" class=\"dataframe\">\n",
       "  <thead>\n",
       "    <tr style=\"text-align: right;\">\n",
       "      <th></th>\n",
       "      <th>browserid</th>\n",
       "      <th>category</th>\n",
       "      <th>merchant</th>\n",
       "      <th>offerid</th>\n",
       "      <th>siteid</th>\n",
       "      <th>countrycode</th>\n",
       "      <th>thour</th>\n",
       "      <th>devid</th>\n",
       "    </tr>\n",
       "  </thead>\n",
       "  <tbody>\n",
       "    <tr>\n",
       "      <th>0</th>\n",
       "      <td>Firefox</td>\n",
       "      <td>17714</td>\n",
       "      <td>20301556</td>\n",
       "      <td>887235</td>\n",
       "      <td>4.7097e+06</td>\n",
       "      <td>e</td>\n",
       "      <td>9</td>\n",
       "      <td>None</td>\n",
       "    </tr>\n",
       "    <tr>\n",
       "      <th>1</th>\n",
       "      <td>Mozilla Firefox</td>\n",
       "      <td>21407</td>\n",
       "      <td>9434818</td>\n",
       "      <td>178235</td>\n",
       "      <td>5.18947e+06</td>\n",
       "      <td>b</td>\n",
       "      <td>17</td>\n",
       "      <td>Desktop</td>\n",
       "    </tr>\n",
       "    <tr>\n",
       "      <th>2</th>\n",
       "      <td>Edge</td>\n",
       "      <td>25085</td>\n",
       "      <td>2050923</td>\n",
       "      <td>518539</td>\n",
       "      <td>98480</td>\n",
       "      <td>a</td>\n",
       "      <td>12</td>\n",
       "      <td>None</td>\n",
       "    </tr>\n",
       "    <tr>\n",
       "      <th>3</th>\n",
       "      <td>Firefox</td>\n",
       "      <td>40339</td>\n",
       "      <td>72089744</td>\n",
       "      <td>390352</td>\n",
       "      <td>8.8964e+06</td>\n",
       "      <td>c</td>\n",
       "      <td>10</td>\n",
       "      <td>Mobile</td>\n",
       "    </tr>\n",
       "    <tr>\n",
       "      <th>4</th>\n",
       "      <td>Mozilla Firefox</td>\n",
       "      <td>12052</td>\n",
       "      <td>39507200</td>\n",
       "      <td>472937</td>\n",
       "      <td>5.63512e+06</td>\n",
       "      <td>d</td>\n",
       "      <td>16</td>\n",
       "      <td>Desktop</td>\n",
       "    </tr>\n",
       "  </tbody>\n",
       "</table>\n",
       "</div>"
      ],
      "text/plain": [
       "         browserid category  merchant offerid       siteid countrycode  thour  \\\n",
       "0          Firefox    17714  20301556  887235   4.7097e+06           e      9   \n",
       "1  Mozilla Firefox    21407   9434818  178235  5.18947e+06           b     17   \n",
       "2             Edge    25085   2050923  518539        98480           a     12   \n",
       "3          Firefox    40339  72089744  390352   8.8964e+06           c     10   \n",
       "4  Mozilla Firefox    12052  39507200  472937  5.63512e+06           d     16   \n",
       "\n",
       "     devid  \n",
       "0     None  \n",
       "1  Desktop  \n",
       "2     None  \n",
       "3   Mobile  \n",
       "4  Desktop  "
      ]
     },
     "execution_count": 10,
     "metadata": {},
     "output_type": "execute_result"
    }
   ],
   "source": [
    "trainX = train[cols_to_use]\n",
    "trainY = train['click']\n",
    "trainX.head()"
   ]
  },
  {
   "cell_type": "code",
   "execution_count": 11,
   "metadata": {
    "collapsed": true
   },
   "outputs": [],
   "source": [
    "X_train, X_test, y_train, y_test = train_test_split(trainX, trainY, test_size = 0.5)\n",
    "model = CatBoostClassifier(depth=10, iterations=20, learning_rate=0.05, eval_metric='AUC', random_seed=1)\n",
    "#X_train.head\n"
   ]
  },
  {
   "cell_type": "code",
   "execution_count": 12,
   "metadata": {},
   "outputs": [
    {
     "data": {
      "text/plain": [
       "<catboost.core.CatBoostClassifier at 0x2816bedf9b0>"
      ]
     },
     "execution_count": 12,
     "metadata": {},
     "output_type": "execute_result"
    }
   ],
   "source": [
    "model.fit(X_train\n",
    "          ,y_train\n",
    "          ,cat_features=cat_cols\n",
    "          ,eval_set = (X_test, y_test)\n",
    "          ,use_best_model = True\n",
    "         )"
   ]
  },
  {
   "cell_type": "code",
   "execution_count": null,
   "metadata": {},
   "outputs": [],
   "source": []
  },
  {
   "cell_type": "code",
   "execution_count": 44,
   "metadata": {
    "collapsed": true
   },
   "outputs": [],
   "source": [
    "pred = model.predict_proba(test[cols_to_use])[:,1]"
   ]
  },
  {
   "cell_type": "code",
   "execution_count": 3,
   "metadata": {},
   "outputs": [],
   "source": [
    "\n",
    "#test[cols_to_use]"
   ]
  },
  {
   "cell_type": "code",
   "execution_count": 200,
   "metadata": {},
   "outputs": [
    {
     "data": {
      "text/plain": [
       "array([ 0.18962573,  0.13338629,  0.02924319, ...,  0.02311152,\n",
       "        0.00806764,  0.11363434])"
      ]
     },
     "execution_count": 200,
     "metadata": {},
     "output_type": "execute_result"
    }
   ],
   "source": [
    "pred"
   ]
  },
  {
   "cell_type": "code",
   "execution_count": 186,
   "metadata": {},
   "outputs": [
    {
     "data": {
      "text/plain": [
       "0.012510717304491764"
      ]
     },
     "execution_count": 186,
     "metadata": {},
     "output_type": "execute_result"
    }
   ],
   "source": []
  },
  {
   "cell_type": "code",
   "execution_count": 46,
   "metadata": {
    "collapsed": true
   },
   "outputs": [],
   "source": [
    "sub = pd.DataFrame({'ID':test['ID'],'click':pred})\n",
    "sub.to_csv('b2.csv',index=False)"
   ]
  },
  {
   "cell_type": "code",
   "execution_count": 211,
   "metadata": {
    "collapsed": true
   },
   "outputs": [],
   "source": [
    "#test = pd.read_csv(\"test.csv\")"
   ]
  },
  {
   "cell_type": "code",
   "execution_count": null,
   "metadata": {},
   "outputs": [],
   "source": []
  },
  {
   "cell_type": "code",
   "execution_count": 49,
   "metadata": {
    "collapsed": true
   },
   "outputs": [],
   "source": [
    "import pandas as pd"
   ]
  },
  {
   "cell_type": "code",
   "execution_count": 50,
   "metadata": {
    "collapsed": true
   },
   "outputs": [],
   "source": [
    "import glob,os"
   ]
  },
  {
   "cell_type": "code",
   "execution_count": 51,
   "metadata": {
    "collapsed": true
   },
   "outputs": [],
   "source": [
    "os.chdir(r\"C:\\Users\\hp pc\\Desktop\\computer visi\\multilab\")"
   ]
  },
  {
   "cell_type": "code",
   "execution_count": 59,
   "metadata": {
    "collapsed": true
   },
   "outputs": [],
   "source": [
    "results = pd.DataFrame([])"
   ]
  },
  {
   "cell_type": "code",
   "execution_count": 62,
   "metadata": {
    "collapsed": true
   },
   "outputs": [],
   "source": [
    "for counter, file in enumerate(glob.glob(\"b*\")):\n",
    "    namedf = pd.read_csv(file, skiprows=0)\n",
    "    results = results.append(namedf)\n",
    " \n",
    "results.to_csv(r'C:\\Users\\hp pc\\Desktop\\computer visi\\multilab\\ab34.csv')"
   ]
  },
  {
   "cell_type": "code",
   "execution_count": 64,
   "metadata": {
    "collapsed": true
   },
   "outputs": [],
   "source": [
    "a = pd.read_csv(\"ab34.csv\")"
   ]
  },
  {
   "cell_type": "code",
   "execution_count": 65,
   "metadata": {
    "collapsed": true
   },
   "outputs": [],
   "source": [
    "test=[]"
   ]
  },
  {
   "cell_type": "code",
   "execution_count": 67,
   "metadata": {
    "collapsed": true
   },
   "outputs": [],
   "source": [
    "a = a[['ID','click']]"
   ]
  },
  {
   "cell_type": "code",
   "execution_count": 77,
   "metadata": {
    "collapsed": true
   },
   "outputs": [],
   "source": [
    "\n",
    "results.to_csv(r'C:\\Users\\hp pc\\Desktop\\computer visi\\multilab\\ab34521.csv',index=False)"
   ]
  },
  {
   "cell_type": "code",
   "execution_count": 78,
   "metadata": {
    "collapsed": true
   },
   "outputs": [],
   "source": [
    "a = pd.read_csv(\"ab34521.csv\")"
   ]
  },
  {
   "cell_type": "code",
   "execution_count": null,
   "metadata": {},
   "outputs": [],
   "source": []
  },
  {
   "cell_type": "code",
   "execution_count": 80,
   "metadata": {
    "collapsed": true
   },
   "outputs": [],
   "source": [
    "a=[]"
   ]
  },
  {
   "cell_type": "code",
   "execution_count": null,
   "metadata": {
    "collapsed": true
   },
   "outputs": [],
   "source": []
  }
 ],
 "metadata": {
  "kernelspec": {
   "display_name": "Python 3",
   "language": "python",
   "name": "python3"
  },
  "language_info": {
   "codemirror_mode": {
    "name": "ipython",
    "version": 3
   },
   "file_extension": ".py",
   "mimetype": "text/x-python",
   "name": "python",
   "nbconvert_exporter": "python",
   "pygments_lexer": "ipython3",
   "version": "3.6.3"
  }
 },
 "nbformat": 4,
 "nbformat_minor": 2
}
